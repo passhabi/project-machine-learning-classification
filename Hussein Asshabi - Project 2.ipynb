  {
   "cell_type": "code",
   "execution_count": 1,
   "metadata": {},
   "outputs": [],
   "source": [
    "import pandas as pd\n",
    "import numpy as np\n",
    "import matplotlib.pyplot as plt\n",
    "from sklearn.model_selection import train_test_split\n",
    "from sklearn.ensemble import GradientBoostingClassifier\n",
    "from sklearn.feature_extraction.text import TfidfVectorizer\n",
    "from sklearn.metrics import confusion_matrix\n",
    "from learnt.classification import model_evaluation as evaluation\n",
    "from sklearn.linear_model import LogisticRegression\n",
    "from sklearn.tree import DecisionTreeClassifier"
   ]
  },
  {
   "cell_type": "markdown",
   "metadata": {},
   "source": [
    "## Import the data frame:\n",
    "Lets call our dataset df. datafream contains a qid, a question column and a target column."
   ]
  },
  {
   "cell_type": "code",
   "execution_count": 2,
   "metadata": {},
   "outputs": [],
   "source": [
    "df = pd.read_csv('train.csv')"
   ]
  },
  {
   "cell_type": "markdown",
   "metadata": {},
   "source": [
    "## preprocessing\n",
    "for some pre processing operations, first we need to remove punctuation for question_text columns. there is question mark with sentence that we should remove, for this we use regular expressions:"
   ]
  },
  {
   "cell_type": "code",
   "execution_count": 3,
   "metadata": {},
   "outputs": [],
   "source": [
    "df['question_text'] = df['question_text'].str.replace('[^\\w\\s]', '')"
   ]
  },
  {
   "cell_type": "markdown",
   "metadata": {},
   "source": [
    "####   No need to qid, so I drop it."
   ]
  },
  {
   "cell_type": "code",
   "execution_count": 4,
   "metadata": {},
   "outputs": [],
   "source": [
    "df = df.drop(['qid'], axis=1)"
   ]
  },
  {
   "cell_type": "markdown",
   "metadata": {},
   "source": [
    "## so far we have this dataframe:"
   ]
  },
  {
   "cell_type": "code",
   "execution_count": 13,
   "metadata": {},
   "outputs": [
    {
     "data": {
      "text/html": [
       "<div>\n",
       "<style scoped>\n",
       "    .dataframe tbody tr th:only-of-type {\n",
       "        vertical-align: middle;\n",
       "    }\n",
       "\n",
       "    .dataframe tbody tr th {\n",
       "        vertical-align: top;\n",
       "    }\n",
       "\n",
       "    .dataframe thead th {\n",
       "        text-align: right;\n",
       "    }\n",
       "</style>\n",
       "<table border=\"1\" class=\"dataframe\">\n",
       "  <thead>\n",
       "    <tr style=\"text-align: right;\">\n",
       "      <th></th>\n",
       "      <th>question_text</th>\n",
       "      <th>target</th>\n",
       "    </tr>\n",
       "  </thead>\n",
       "  <tbody>\n",
       "    <tr>\n",
       "      <th>0</th>\n",
       "      <td>How did Quebec nationalists see their province...</td>\n",
       "      <td>0</td>\n",
       "    </tr>\n",
       "    <tr>\n",
       "      <th>1</th>\n",
       "      <td>Do you have an adopted dog how would you encou...</td>\n",
       "      <td>0</td>\n",
       "    </tr>\n",
       "    <tr>\n",
       "      <th>2</th>\n",
       "      <td>Why does velocity affect time Does velocity af...</td>\n",
       "      <td>0</td>\n",
       "    </tr>\n",
       "    <tr>\n",
       "      <th>3</th>\n",
       "      <td>How did Otto von Guericke used the Magdeburg h...</td>\n",
       "      <td>0</td>\n",
       "    </tr>\n",
       "    <tr>\n",
       "      <th>4</th>\n",
       "      <td>Can I convert montra helicon D to a mountain b...</td>\n",
       "      <td>0</td>\n",
       "    </tr>\n",
       "  </tbody>\n",
       "</table>\n",
       "</div>"
      ],
      "text/plain": [
       "                                       question_text  target\n",
       "0  How did Quebec nationalists see their province...       0\n",
       "1  Do you have an adopted dog how would you encou...       0\n",
       "2  Why does velocity affect time Does velocity af...       0\n",
       "3  How did Otto von Guericke used the Magdeburg h...       0\n",
       "4  Can I convert montra helicon D to a mountain b...       0"
      ]
     },
     "execution_count": 13,
     "metadata": {},
     "output_type": "execute_result"
    }
   ],
   "source": [
    "df.head()"
   ]
  },
  {
   "cell_type": "markdown",
   "metadata": {},
   "source": [
    "## Sample data to balance classes:\n",
    "Now, we write some code to compute below the percentage of +1 and 0 target in the dataset.\n",
    "One way to combat class imbalance is to undersample the larger class until the class distribution is approximately half and half. Here, we will undersample the larger class in order to balance out our dataset. This means we are throwing away many data points."
   ]
  },
  {
   "cell_type": "code",
   "execution_count": 14,
   "metadata": {},
   "outputs": [
    {
     "name": "stdout",
     "output_type": "stream",
     "text": [
      "Number of +1  : 80810\n",
      "Number of 0 : 1225312\n"
     ]
    }
   ],
   "source": [
    "plus = df[df['target'] == +1]\n",
    "neutral = df[df['target'] == 0]\n",
    "print(\"Number of +1  : %s\" % len(plus))\n",
    "print(\"Number of 0 : %s\" % len(neutral))"
   ]
  },
  {
   "cell_type": "markdown",
   "metadata": {},
   "source": [
    "Since there are fewer +1s than 0s, we find the ratio of the sizes and we undersample the 0s."
   ]
  },
  {
   "cell_type": "code",
   "execution_count": 15,
   "metadata": {},
   "outputs": [],
   "source": [
    "neutral = neutral[:len(plus)]\n",
    "#   Append  0 to with the down sampled version of safe_loans\n",
    "df = plus.append(neutral)"
   ]
  },
  {
   "cell_type": "markdown",
   "metadata": {},
   "source": [
    "## Split data into training and test sets\n",
    "Let's perform a train/test split with 90% of the data in the training set and 20% of the data in the test set."
   ]
  },
  {
   "cell_type": "code",
   "execution_count": 16,
   "metadata": {},
   "outputs": [],
   "source": [
    "train, test = train_test_split(df, test_size=0.1)\n",
    "train, validation = train_test_split(train, test_size=0.2)"
   ]
  },
  {
   "cell_type": "markdown",
   "metadata": {},
   "source": [
    "First we are going to use tf_idf for some sort of feature selection too. after running this process value 10204 has chosen for the max number of features. since tf_idf is descending order. we have some sort of lasso operation but in a different way."
   ]
  },
  {
   "cell_type": "code",
   "execution_count": 18,
   "metadata": {},
   "outputs": [
    {
     "data": {
      "image/png": "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\n",
      "text/plain": [
       "<Figure size 432x288 with 1 Axes>"
      ]
     },
     "metadata": {
      "needs_background": "light"
     },
     "output_type": "display_data"
    }
   ],
   "source": [
    "cut_dict = {}\n",
    "for cut in np.linspace(9000, 20000, 10):\n",
    "    cut = int(cut)\n",
    "    vectorizer = TfidfVectorizer(token_pattern=r'\\b\\w+\\b', stop_words='english', max_features=cut)\n",
    "    train_x = vectorizer.fit_transform(train['question_text'])\n",
    "    validation_x = vectorizer.transform(validation['question_text'])\n",
    "\n",
    "    logisticRegression = LogisticRegression()\n",
    "    logisticRegression.fit(train_x, train['target'])\n",
    "    pred = logisticRegression.predict(validation_x)\n",
    "    cut_dict[cut] = logisticRegression.score(validation_x, validation['target'])  # compute accuracy\n",
    "\n",
    "plt.plot(cut_dict.values(), '.-')\n",
    "plt.show()"
   ]
  },
  {
   "cell_type": "markdown",
   "metadata": {},
   "source": [
    "we find the best value for the maximum number of features:"
   ]
  },
  {
   "cell_type": "code",
   "execution_count": 19,
   "metadata": {},
   "outputs": [
    {
     "name": "stdout",
     "output_type": "stream",
     "text": [
      "Optimal maximum of features: 9000\n"
     ]
    }
   ],
   "source": [
    "max_feature = max(cut_dict.items(), key=lambda x: x[1])[0]\n",
    "print('Optimal maximum of features:', max_feature)"
   ]
  },
  {
   "cell_type": "markdown",
   "metadata": {},
   "source": [
    "# TF-IDF representing data\n",
    "We will now compute the TF_IDF for each word that appears in the reviews. For this reason, scikit-learn and many other tools use matrices to store a collection of word count vectors."
   ]
  },
  {
   "cell_type": "code",
   "execution_count": 20,
   "metadata": {},
   "outputs": [],
   "source": [
    "vectorizer = TfidfVectorizer(token_pattern=r'\\b\\w+\\b', stop_words='english', max_features=10240)\n",
    "# Use this token pattern to keep single-letter words\n",
    "# First, learn vocabulary from the training data and assign columns to words\n",
    "# Then convert the training data into a sparse matrix\n",
    "train_x = vectorizer.fit_transform(train['question_text'])\n",
    "validation_x = vectorizer.transform(validation['question_text'])\n",
    "test_x = vectorizer.transform(test['question_text'])"
   ]
  },
  {
   "cell_type": "markdown",
   "metadata": {},
   "source": [
    "# Make the living easier..\n",
    "\n",
    "We'll write a function to find the best tuning parameter values for different part of section of models. This function makes the living easier.\n",
    "\n",
    "It runs the giving model in a loop and will find the best tuning parameter value base on the validation set. \n",
    "Then it will fit the model with the best value that has found and at the end, it plots confusion matrices and other information required."
   ]
  },
  {
   "cell_type": "code",
   "execution_count": 22,
   "metadata": {},
   "outputs": [],
   "source": [
    "def model_tuning(tuple_df_x, tuple_df_y, label_model, model_type='l2_penalty'):\n",
    "    \"\"\"\n",
    "    :param model_type: l1_penalty, l2_penalty, adaboost, decision_tree\n",
    "    \"\"\"\n",
    "    train_x = tuple_df_x[0]\n",
    "    validation_x = tuple_df_x[1]\n",
    "    test_x = tuple_df_x[2]\n",
    "\n",
    "    train_y = tuple_df_y[0]\n",
    "    validation_y = tuple_df_y[1]\n",
    "    test_y = tuple_df_y[2]\n",
    "\n",
    "    score_dict = {}\n",
    "    if model_type == 'l1_penalty' or model_type == 'l2_penalty':\n",
    "        for tuning in np.logspace(0, 7, 16):\n",
    "            if model_type == 'l1_penalty':\n",
    "                model = LogisticRegression(penalty='l1', C=tuning)\n",
    "            else:\n",
    "                model = LogisticRegression(C=tuning)\n",
    "\n",
    "            model.fit(train_x, train_y)\n",
    "\n",
    "            y_hat = model.predict(validation_x)\n",
    "            score_dict[tuning] = model.score(validation_x, validation_y)  # compute accuracy\n",
    "\n",
    "        plt.plot(score_dict.values(), '.-')\n",
    "        plt.show()\n",
    "\n",
    "        # we find the best tuning parameter:\n",
    "        tuning = max(score_dict.items(), key=lambda x: x[1])[0]\n",
    "        print('[', label_model, ']')\n",
    "        print('Tuning parameter:', tuning)\n",
    "\n",
    "    # lets now use the found tuning parameter to evaluate model on the test data:\n",
    "    if model_type == 'l1_penalty':\n",
    "        model = LogisticRegression(penalty='l1', C=tuning)\n",
    "    elif model_type == 'l2_penalty':\n",
    "        model = LogisticRegression(C=tuning)\n",
    "    elif model_type == 'adaboost':\n",
    "        print('[', label_model, ']')\n",
    "        model = GradientBoostingClassifier()\n",
    "    elif model_type == 'decision_tree':\n",
    "        print('[', label_model, ']')\n",
    "        model = DecisionTreeClassifier()\n",
    "    else:\n",
    "        raise Exception(\"model type is not correct\")\n",
    "\n",
    "    model.fit(train_x, train_y)\n",
    "    y_hat = model.predict(test_x)\n",
    "\n",
    "    print('Accuracy on train:', model.score(train_x, train_y))\n",
    "    print('Accuracy on test: ', model.score(test_x, test_y))\n",
    "\n",
    "    # Compute confusion matrix\n",
    "    #   confusion is simple matrix that tells a lot about the model, as follow:\n",
    "    #    left_top: # of True positive      right_top: # of False Negative\n",
    "    #   left_down: # of False positive    right_down: # of True negative\n",
    "    cnf_matrix = confusion_matrix(test_y, y_hat)\n",
    "    np.set_printoptions(precision=2)\n",
    "\n",
    "    # Plot non-normalized confusion matrix\n",
    "    # plt.figure()\n",
    "    # evaluation.plot_confusion_matrix(cnf_matrix, title='Confusion matrix, without normalization')\n",
    "    # plt.show()\n",
    "\n",
    "    # Plot normalized confusion matrix\n",
    "    plt.figure()\n",
    "    evaluation.plot_confusion_matrix(cnf_matrix, normalize=True, title='Normalized confusion matrix')\n",
    "    plt.show()\n",
    "\n",
    "    # lets see about precision and recall of the model:\n",
    "    if model_type != 'decision_tree':\n",
    "        plt.figure()\n",
    "        evaluation.plot_precision_recall(model, test_x, test_y)\n",
    "        plt.show()\n",
    "\n",
    "    return model"
   ]
  },
  {
   "cell_type": "markdown",
   "metadata": {},
   "source": [
    "as we saw, out function takes two tuples parameters indicates features and outputs of different sets."
   ]
  },
  {
   "cell_type": "code",
   "execution_count": 23,
   "metadata": {},
   "outputs": [],
   "source": [
    "tuple_x = [train_x, validation_x, test_x]\n",
    "tuple_y = [train['target'], validation['target'], test['target']]"
   ]
  },
  {
   "cell_type": "markdown",
   "metadata": {},
   "source": [
    "# Lasso Logistic Regression\n",
    "What that we want in this section is to reduce number of features that we want to include in our model. This method reduces the chance of overfitting and reduce our computations."
   ]
  },
  {
   "cell_type": "code",
   "execution_count": 24,
   "metadata": {},
   "outputs": [
    {
     "data": {
      "image/png": "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\n",
      "text/plain": [
       "<Figure size 432x288 with 1 Axes>"
      ]
     },
     "metadata": {
      "needs_background": "light"
     },
     "output_type": "display_data"
    },
    {
     "name": "stdout",
     "output_type": "stream",
     "text": [
      "[ Lasso Logistic Regression ]\n",
      "Tuning parameter: 2.9286445646252366\n",
      "Accuracy on train: 0.9032277469363904\n",
      "Accuracy on test:  0.8760054448706843\n"
     ]
    },
    {
     "data": {
      "image/png": "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\n",
      "text/plain": [
       "<Figure size 432x288 with 2 Axes>"
      ]
     },
     "metadata": {
      "needs_background": "light"
     },
     "output_type": "display_data"
    },
    {
     "data": {
      "image/png": "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\n",
      "text/plain": [
       "<Figure size 432x288 with 1 Axes>"
      ]
     },
     "metadata": {
      "needs_background": "light"
     },
     "output_type": "display_data"
    }
   ],
   "source": [
    "lasso_model = model_tuning(tuple_x, tuple_y, 'Lasso Logistic Regression', 'l1_penalty')"
   ]
  },
  {
   "cell_type": "markdown",
   "metadata": {},
   "source": [
    "### ACE.. I Love this function.. \n",
    "\n",
    "although, the result show low accuracy on test data. So we need some changes. e.g. the way we split the data or the way we shuffled the data. Since the output is not supposed to be stored. We pass from this stage.\n",
    "\n",
    "### Now lets exclude features with zero weight  from features list."
   ]
  },
  {
   "cell_type": "code",
   "execution_count": 26,
   "metadata": {},
   "outputs": [],
   "source": [
    "col_features = vectorizer.get_feature_names()\n",
    "col_coef = lasso_model.coef_[0]\n",
    "\n",
    "# store it in data frame:\n",
    "df_features = pd.DataFrame(data={'features': col_features, 'weights': col_coef})\n",
    "\n",
    "# remove sparsity:\n",
    "df_features = df_features[df_features['weights'] != 0]\n",
    "\n",
    "# save it in list to use it in tf_idf again:\n",
    "features_list = df_features.features.iloc[:].values"
   ]
  },
  {
   "cell_type": "markdown",
   "metadata": {},
   "source": [
    "##### Lets take look at features and their weights. note that we exluded zero weight words."
   ]
  },
  {
   "cell_type": "code",
   "execution_count": 29,
   "metadata": {},
   "outputs": [
    {
     "data": {
      "text/html": [
       "<div>\n",
       "<style scoped>\n",
       "    .dataframe tbody tr th:only-of-type {\n",
       "        vertical-align: middle;\n",
       "    }\n",
       "\n",
       "    .dataframe tbody tr th {\n",
       "        vertical-align: top;\n",
       "    }\n",
       "\n",
       "    .dataframe thead th {\n",
       "        text-align: right;\n",
       "    }\n",
       "</style>\n",
       "<table border=\"1\" class=\"dataframe\">\n",
       "  <thead>\n",
       "    <tr style=\"text-align: right;\">\n",
       "      <th></th>\n",
       "      <th>features</th>\n",
       "      <th>weights</th>\n",
       "    </tr>\n",
       "  </thead>\n",
       "  <tbody>\n",
       "    <tr>\n",
       "      <th>1</th>\n",
       "      <td>1</td>\n",
       "      <td>0.005595</td>\n",
       "    </tr>\n",
       "    <tr>\n",
       "      <th>2</th>\n",
       "      <td>10</td>\n",
       "      <td>0.805035</td>\n",
       "    </tr>\n",
       "    <tr>\n",
       "      <th>3</th>\n",
       "      <td>100</td>\n",
       "      <td>0.229769</td>\n",
       "    </tr>\n",
       "    <tr>\n",
       "      <th>4</th>\n",
       "      <td>1000</td>\n",
       "      <td>-0.530162</td>\n",
       "    </tr>\n",
       "    <tr>\n",
       "      <th>6</th>\n",
       "      <td>100000</td>\n",
       "      <td>-0.226599</td>\n",
       "    </tr>\n",
       "    <tr>\n",
       "      <th>9</th>\n",
       "      <td>10th</td>\n",
       "      <td>-0.820156</td>\n",
       "    </tr>\n",
       "    <tr>\n",
       "      <th>10</th>\n",
       "      <td>11</td>\n",
       "      <td>1.132311</td>\n",
       "    </tr>\n",
       "    <tr>\n",
       "      <th>11</th>\n",
       "      <td>110</td>\n",
       "      <td>1.389741</td>\n",
       "    </tr>\n",
       "    <tr>\n",
       "      <th>12</th>\n",
       "      <td>11th</td>\n",
       "      <td>-0.018892</td>\n",
       "    </tr>\n",
       "    <tr>\n",
       "      <th>13</th>\n",
       "      <td>11yearold</td>\n",
       "      <td>4.405861</td>\n",
       "    </tr>\n",
       "    <tr>\n",
       "      <th>14</th>\n",
       "      <td>12</td>\n",
       "      <td>2.608351</td>\n",
       "    </tr>\n",
       "    <tr>\n",
       "      <th>15</th>\n",
       "      <td>120</td>\n",
       "      <td>-0.604197</td>\n",
       "    </tr>\n",
       "    <tr>\n",
       "      <th>17</th>\n",
       "      <td>12th</td>\n",
       "      <td>-1.557318</td>\n",
       "    </tr>\n",
       "    <tr>\n",
       "      <th>18</th>\n",
       "      <td>12yearold</td>\n",
       "      <td>6.080865</td>\n",
       "    </tr>\n",
       "    <tr>\n",
       "      <th>19</th>\n",
       "      <td>13</td>\n",
       "      <td>1.295280</td>\n",
       "    </tr>\n",
       "    <tr>\n",
       "      <th>20</th>\n",
       "      <td>130</td>\n",
       "      <td>-1.373150</td>\n",
       "    </tr>\n",
       "    <tr>\n",
       "      <th>21</th>\n",
       "      <td>13yearold</td>\n",
       "      <td>7.737962</td>\n",
       "    </tr>\n",
       "    <tr>\n",
       "      <th>22</th>\n",
       "      <td>14</td>\n",
       "      <td>1.289388</td>\n",
       "    </tr>\n",
       "    <tr>\n",
       "      <th>24</th>\n",
       "      <td>14yearold</td>\n",
       "      <td>5.116671</td>\n",
       "    </tr>\n",
       "    <tr>\n",
       "      <th>25</th>\n",
       "      <td>15</td>\n",
       "      <td>0.247137</td>\n",
       "    </tr>\n",
       "    <tr>\n",
       "      <th>27</th>\n",
       "      <td>15yearold</td>\n",
       "      <td>6.484048</td>\n",
       "    </tr>\n",
       "    <tr>\n",
       "      <th>28</th>\n",
       "      <td>16</td>\n",
       "      <td>-0.377946</td>\n",
       "    </tr>\n",
       "    <tr>\n",
       "      <th>30</th>\n",
       "      <td>16yearold</td>\n",
       "      <td>7.468267</td>\n",
       "    </tr>\n",
       "    <tr>\n",
       "      <th>31</th>\n",
       "      <td>17</td>\n",
       "      <td>0.078390</td>\n",
       "    </tr>\n",
       "    <tr>\n",
       "      <th>32</th>\n",
       "      <td>17yearold</td>\n",
       "      <td>4.254021</td>\n",
       "    </tr>\n",
       "    <tr>\n",
       "      <th>33</th>\n",
       "      <td>18</td>\n",
       "      <td>0.220455</td>\n",
       "    </tr>\n",
       "    <tr>\n",
       "      <th>37</th>\n",
       "      <td>18yearold</td>\n",
       "      <td>4.299206</td>\n",
       "    </tr>\n",
       "    <tr>\n",
       "      <th>41</th>\n",
       "      <td>1950s</td>\n",
       "      <td>2.969458</td>\n",
       "    </tr>\n",
       "    <tr>\n",
       "      <th>42</th>\n",
       "      <td>1960s</td>\n",
       "      <td>-0.610775</td>\n",
       "    </tr>\n",
       "    <tr>\n",
       "      <th>45</th>\n",
       "      <td>1980s</td>\n",
       "      <td>0.034478</td>\n",
       "    </tr>\n",
       "    <tr>\n",
       "      <th>...</th>\n",
       "      <td>...</td>\n",
       "      <td>...</td>\n",
       "    </tr>\n",
       "    <tr>\n",
       "      <th>10199</th>\n",
       "      <td>yesterday</td>\n",
       "      <td>0.498412</td>\n",
       "    </tr>\n",
       "    <tr>\n",
       "      <th>10200</th>\n",
       "      <td>yield</td>\n",
       "      <td>-0.077267</td>\n",
       "    </tr>\n",
       "    <tr>\n",
       "      <th>10201</th>\n",
       "      <td>yo</td>\n",
       "      <td>0.586332</td>\n",
       "    </tr>\n",
       "    <tr>\n",
       "      <th>10204</th>\n",
       "      <td>yogi</td>\n",
       "      <td>2.054848</td>\n",
       "    </tr>\n",
       "    <tr>\n",
       "      <th>10205</th>\n",
       "      <td>york</td>\n",
       "      <td>0.045585</td>\n",
       "    </tr>\n",
       "    <tr>\n",
       "      <th>10206</th>\n",
       "      <td>yorkers</td>\n",
       "      <td>6.722408</td>\n",
       "    </tr>\n",
       "    <tr>\n",
       "      <th>10208</th>\n",
       "      <td>youll</td>\n",
       "      <td>2.021729</td>\n",
       "    </tr>\n",
       "    <tr>\n",
       "      <th>10209</th>\n",
       "      <td>young</td>\n",
       "      <td>0.322855</td>\n",
       "    </tr>\n",
       "    <tr>\n",
       "      <th>10210</th>\n",
       "      <td>younger</td>\n",
       "      <td>0.228017</td>\n",
       "    </tr>\n",
       "    <tr>\n",
       "      <th>10211</th>\n",
       "      <td>youngsters</td>\n",
       "      <td>0.499710</td>\n",
       "    </tr>\n",
       "    <tr>\n",
       "      <th>10212</th>\n",
       "      <td>youre</td>\n",
       "      <td>0.478791</td>\n",
       "    </tr>\n",
       "    <tr>\n",
       "      <th>10213</th>\n",
       "      <td>youth</td>\n",
       "      <td>1.633358</td>\n",
       "    </tr>\n",
       "    <tr>\n",
       "      <th>10214</th>\n",
       "      <td>youths</td>\n",
       "      <td>1.554124</td>\n",
       "    </tr>\n",
       "    <tr>\n",
       "      <th>10215</th>\n",
       "      <td>youtube</td>\n",
       "      <td>-0.813806</td>\n",
       "    </tr>\n",
       "    <tr>\n",
       "      <th>10216</th>\n",
       "      <td>youtuber</td>\n",
       "      <td>0.250441</td>\n",
       "    </tr>\n",
       "    <tr>\n",
       "      <th>10218</th>\n",
       "      <td>youve</td>\n",
       "      <td>-1.772763</td>\n",
       "    </tr>\n",
       "    <tr>\n",
       "      <th>10219</th>\n",
       "      <td>yr</td>\n",
       "      <td>-0.918869</td>\n",
       "    </tr>\n",
       "    <tr>\n",
       "      <th>10220</th>\n",
       "      <td>yrs</td>\n",
       "      <td>2.415828</td>\n",
       "    </tr>\n",
       "    <tr>\n",
       "      <th>10223</th>\n",
       "      <td>z</td>\n",
       "      <td>0.889765</td>\n",
       "    </tr>\n",
       "    <tr>\n",
       "      <th>10225</th>\n",
       "      <td>zealand</td>\n",
       "      <td>4.223733</td>\n",
       "    </tr>\n",
       "    <tr>\n",
       "      <th>10226</th>\n",
       "      <td>zealander</td>\n",
       "      <td>8.002021</td>\n",
       "    </tr>\n",
       "    <tr>\n",
       "      <th>10227</th>\n",
       "      <td>zealanders</td>\n",
       "      <td>5.727727</td>\n",
       "    </tr>\n",
       "    <tr>\n",
       "      <th>10228</th>\n",
       "      <td>zero</td>\n",
       "      <td>0.677604</td>\n",
       "    </tr>\n",
       "    <tr>\n",
       "      <th>10230</th>\n",
       "      <td>zionism</td>\n",
       "      <td>2.345750</td>\n",
       "    </tr>\n",
       "    <tr>\n",
       "      <th>10231</th>\n",
       "      <td>zionist</td>\n",
       "      <td>4.653387</td>\n",
       "    </tr>\n",
       "    <tr>\n",
       "      <th>10232</th>\n",
       "      <td>zionists</td>\n",
       "      <td>6.258714</td>\n",
       "    </tr>\n",
       "    <tr>\n",
       "      <th>10235</th>\n",
       "      <td>zombies</td>\n",
       "      <td>1.902665</td>\n",
       "    </tr>\n",
       "    <tr>\n",
       "      <th>10236</th>\n",
       "      <td>zone</td>\n",
       "      <td>0.891854</td>\n",
       "    </tr>\n",
       "    <tr>\n",
       "      <th>10238</th>\n",
       "      <td>zoo</td>\n",
       "      <td>3.282321</td>\n",
       "    </tr>\n",
       "    <tr>\n",
       "      <th>10239</th>\n",
       "      <td>zuckerberg</td>\n",
       "      <td>4.259773</td>\n",
       "    </tr>\n",
       "  </tbody>\n",
       "</table>\n",
       "<p>7371 rows × 2 columns</p>\n",
       "</div>"
      ],
      "text/plain": [
       "         features   weights\n",
       "1               1  0.005595\n",
       "2              10  0.805035\n",
       "3             100  0.229769\n",
       "4            1000 -0.530162\n",
       "6          100000 -0.226599\n",
       "9            10th -0.820156\n",
       "10             11  1.132311\n",
       "11            110  1.389741\n",
       "12           11th -0.018892\n",
       "13      11yearold  4.405861\n",
       "14             12  2.608351\n",
       "15            120 -0.604197\n",
       "17           12th -1.557318\n",
       "18      12yearold  6.080865\n",
       "19             13  1.295280\n",
       "20            130 -1.373150\n",
       "21      13yearold  7.737962\n",
       "22             14  1.289388\n",
       "24      14yearold  5.116671\n",
       "25             15  0.247137\n",
       "27      15yearold  6.484048\n",
       "28             16 -0.377946\n",
       "30      16yearold  7.468267\n",
       "31             17  0.078390\n",
       "32      17yearold  4.254021\n",
       "33             18  0.220455\n",
       "37      18yearold  4.299206\n",
       "41          1950s  2.969458\n",
       "42          1960s -0.610775\n",
       "45          1980s  0.034478\n",
       "...           ...       ...\n",
       "10199   yesterday  0.498412\n",
       "10200       yield -0.077267\n",
       "10201          yo  0.586332\n",
       "10204        yogi  2.054848\n",
       "10205        york  0.045585\n",
       "10206     yorkers  6.722408\n",
       "10208       youll  2.021729\n",
       "10209       young  0.322855\n",
       "10210     younger  0.228017\n",
       "10211  youngsters  0.499710\n",
       "10212       youre  0.478791\n",
       "10213       youth  1.633358\n",
       "10214      youths  1.554124\n",
       "10215     youtube -0.813806\n",
       "10216    youtuber  0.250441\n",
       "10218       youve -1.772763\n",
       "10219          yr -0.918869\n",
       "10220         yrs  2.415828\n",
       "10223           z  0.889765\n",
       "10225     zealand  4.223733\n",
       "10226   zealander  8.002021\n",
       "10227  zealanders  5.727727\n",
       "10228        zero  0.677604\n",
       "10230     zionism  2.345750\n",
       "10231     zionist  4.653387\n",
       "10232    zionists  6.258714\n",
       "10235     zombies  1.902665\n",
       "10236        zone  0.891854\n",
       "10238         zoo  3.282321\n",
       "10239  zuckerberg  4.259773\n",
       "\n",
       "[7371 rows x 2 columns]"
      ]
     },
     "execution_count": 29,
     "metadata": {},
     "output_type": "execute_result"
    }
   ],
   "source": [
    "df_features"
   ]
  },
  {
   "cell_type": "markdown",
   "metadata": {},
   "source": [
    "## Fit it throw TF-IDF for the last time:"
   ]
  },
  {
   "cell_type": "code",
   "execution_count": 30,
   "metadata": {},
   "outputs": [],
   "source": [
    "vectorizer2 = TfidfVectorizer(token_pattern=r'\\b\\w+\\b', vocabulary=features_list)\n",
    "\n",
    "# Then convert the data frame into a matrix.\n",
    "train_x = vectorizer2.fit_transform(train['question_text'])\n",
    "validation_x = vectorizer2.transform(validation['question_text'])\n",
    "test_x = vectorizer2.transform(test['question_text'])"
   ]
  },
  {
   "cell_type": "markdown",
   "metadata": {},
   "source": [
    "Since we got a new TF-IDF representing features, we need to update our tuple vector:"
   ]
  },
  {
   "cell_type": "code",
   "execution_count": 31,
   "metadata": {},
   "outputs": [],
   "source": [
    "tuple_x = [train_x, validation_x, test_x]"
   ]
  },
  {
   "cell_type": "markdown",
   "metadata": {},
   "source": [
    "# Ridge Logistic Regression\n",
    "Now that we have just features that we need, lets continue:"
   ]
  },
  {
   "cell_type": "code",
   "execution_count": 32,
   "metadata": {},
   "outputs": [
    {
     "data": {
      "image/png": "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\n",
      "text/plain": [
       "<Figure size 432x288 with 1 Axes>"
      ]
     },
     "metadata": {
      "needs_background": "light"
     },
     "output_type": "display_data"
    },
    {
     "name": "stdout",
     "output_type": "stream",
     "text": [
      "[ Ridge Logistic Regression ]\n",
      "Tuning parameter: 2.9286445646252366\n",
      "Accuracy on train: 0.898905178488562\n",
      "Accuracy on test:  0.8774904096027719\n"
     ]
    },
    {
     "data": {
      "image/png": "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\n",
      "text/plain": [
       "<Figure size 432x288 with 2 Axes>"
      ]
     },
     "metadata": {
      "needs_background": "light"
     },
     "output_type": "display_data"
    },
    {
     "data": {
      "image/png": "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\n",
      "text/plain": [
       "<Figure size 432x288 with 1 Axes>"
      ]
     },
     "metadata": {
      "needs_background": "light"
     },
     "output_type": "display_data"
    }
   ],
   "source": [
    "ridge_model = model_tuning(tuple_x, tuple_y, label_model='Ridge Logistic Regression')"
   ]
  },
  {
   "cell_type": "markdown",
   "metadata": {},
   "source": [
    "### Something is wrong!\n",
    "Two remaining model (Decision Tree and Adaboost) are not really sensible models to classify these kind of dataset. (at least in this way I think it dosent make sence)."
   ]
  },
  {
   "cell_type": "markdown",
   "metadata": {},
   "source": [
    "# Decision Tree"
   ]
  },
  {
   "cell_type": "code",
   "execution_count": 33,
   "metadata": {},
   "outputs": [
    {
     "name": "stdout",
     "output_type": "stream",
     "text": [
      "[ Decision Tree ]\n",
      "Accuracy on train: 0.9961328910506505\n",
      "Accuracy on test:  0.8175349585447346\n"
     ]
    },
    {
     "data": {
      "image/png": "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\n",
      "text/plain": [
       "<Figure size 432x288 with 2 Axes>"
      ]
     },
     "metadata": {
      "needs_background": "light"
     },
     "output_type": "display_data"
    }
   ],
   "source": [
    "decision_tree_model = model_tuning(tuple_x, tuple_y, 'Decision Tree', 'decision_tree')"
   ]
  },
  {
   "cell_type": "markdown",
   "metadata": {},
   "source": [
    "# Ada boost"
   ]
  },
  {
   "cell_type": "code",
   "execution_count": 34,
   "metadata": {},
   "outputs": [
    {
     "name": "stdout",
     "output_type": "stream",
     "text": [
      "[ Ada boost ]\n",
      "Accuracy on train: 0.7672773834281491\n",
      "Accuracy on test:  0.7663655488182156\n"
     ]
    },
    {
     "data": {
      "image/png": "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\n",
      "text/plain": [
       "<Figure size 432x288 with 2 Axes>"
      ]
     },
     "metadata": {
      "needs_background": "light"
     },
     "output_type": "display_data"
    },
    {
     "data": {
      "image/png": "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\n",
      "text/plain": [
       "<Figure size 432x288 with 1 Axes>"
      ]
     },
     "metadata": {
      "needs_background": "light"
     },
     "output_type": "display_data"
    }
   ],
   "source": [
    "adaboost_model = model_tuning(tuple_x, tuple_y, 'Ada boost', 'adaboost')"
   ]
  },
  {
   "cell_type": "markdown",
   "metadata": {},
   "source": [
    "# Conclusion\n",
    "For a conclusion, we can see making a tree for classifying words and sentences doesn't make really sense. I may say each model is useful for some type of dataset. TF-IDF also was a great idea to show (select) and find the important words.\n",
    "Accuracy measurement is not really enough, particularly when we have an imbalanced dataset. The data set also was really huge that made working truly hard.\n",
    "\n",
    "I know I haven't done a really great job, and I need lots to learn in this path which need lots more time and to be on mood. but..\n",
    "\n",
    "### Special thanks to Dr. Seydi\n",
    "Hussein Asshabi"
   ]
  },
  {
   "cell_type": "code",
   "execution_count": null,
   "metadata": {},
   "outputs": [],
   "source": []
  }
 ],
 "metadata": {
  "kernelspec": {
   "display_name": "Python 3",
   "language": "python",
   "name": "python3"
  },
  "language_info": {
   "codemirror_mode": {
    "name": "ipython",
    "version": 3
   },
   "file_extension": ".py",
   "mimetype": "text/x-python",
   "name": "python",
   "nbconvert_exporter": "python",
   "pygments_lexer": "ipython3",
   "version": "3.7.1"
  }
 },
 "nbformat": 4,
 "nbformat_minor": 2
}
